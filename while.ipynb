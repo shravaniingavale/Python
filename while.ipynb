{
 "cells": [
  {
   "cell_type": "code",
   "execution_count": 1,
   "id": "d7fd83ae-eeb2-456d-9595-11185b418673",
   "metadata": {},
   "outputs": [
    {
     "name": "stdout",
     "output_type": "stream",
     "text": [
      "1\n",
      "2\n",
      "3\n",
      "4\n",
      "5\n",
      "6\n",
      "7\n",
      "8\n",
      "9\n",
      "10\n"
     ]
    }
   ],
   "source": [
    "i=1\n",
    "while i<11:\n",
    "    print(i)\n",
    "    i+=1"
   ]
  },
  {
   "cell_type": "code",
   "execution_count": 2,
   "id": "bced00ad-b0a7-406b-8e3a-fbb50f8e7686",
   "metadata": {},
   "outputs": [
    {
     "name": "stdin",
     "output_type": "stream",
     "text": [
      "enter number 5\n"
     ]
    },
    {
     "name": "stdout",
     "output_type": "stream",
     "text": [
      "5\n"
     ]
    },
    {
     "name": "stdin",
     "output_type": "stream",
     "text": [
      "enter number 5\n"
     ]
    },
    {
     "name": "stdout",
     "output_type": "stream",
     "text": [
      "5\n"
     ]
    },
    {
     "name": "stdin",
     "output_type": "stream",
     "text": [
      "enter number -1\n"
     ]
    },
    {
     "name": "stdout",
     "output_type": "stream",
     "text": [
      "-1\n"
     ]
    }
   ],
   "source": [
    "i=1\n",
    "while i>0:\n",
    "    i=int(input(\"enter number\"))\n",
    "    print(i)"
   ]
  },
  {
   "cell_type": "code",
   "execution_count": 3,
   "id": "91318b18-d881-4d45-b74c-505164ad3e77",
   "metadata": {},
   "outputs": [
    {
     "name": "stdout",
     "output_type": "stream",
     "text": [
      "1\n",
      "2\n",
      "4\n",
      "7\n",
      "11\n",
      "16\n",
      "22\n",
      "29\n"
     ]
    }
   ],
   "source": [
    "i=1\n",
    "j=1\n",
    "while j<30:\n",
    "\n",
    "    print(j)\n",
    "    j=j+i\n",
    "    i+=1"
   ]
  },
  {
   "cell_type": "code",
   "execution_count": 4,
   "id": "338832c7-185f-45c6-be8f-c0ffd52023fa",
   "metadata": {},
   "outputs": [
    {
     "name": "stdout",
     "output_type": "stream",
     "text": [
      "x= 1  y= 1\n",
      "x= 4  y= 16\n",
      "x= 7  y= 49\n"
     ]
    }
   ],
   "source": [
    "x=1\n",
    "while x**2<100:\n",
    "    y=x**2\n",
    "    print(\"x=\",x,\" y=\",y)\n",
    "    x+=3"
   ]
  },
  {
   "cell_type": "code",
   "execution_count": 17,
   "id": "86c42d7f-9016-4cc5-a05a-97068011d675",
   "metadata": {},
   "outputs": [
    {
     "name": "stdin",
     "output_type": "stream",
     "text": [
      "enter number 1 5\n",
      "enter number 2 8\n"
     ]
    },
    {
     "name": "stdout",
     "output_type": "stream",
     "text": [
      "13\n"
     ]
    },
    {
     "name": "stdin",
     "output_type": "stream",
     "text": [
      "enter number 1 1\n",
      "enter number 2 2\n"
     ]
    },
    {
     "name": "stdout",
     "output_type": "stream",
     "text": [
      "3\n"
     ]
    },
    {
     "name": "stdin",
     "output_type": "stream",
     "text": [
      "enter number 1 0\n",
      "enter number 2 2\n"
     ]
    }
   ],
   "source": [
    "x,y=1,1\n",
    "while x>0 and y>0:\n",
    "    x=int(input(\"enter number 1\"))\n",
    "    y=int(input(\"enter number 2\"))\n",
    "    if x!=0 and y!=0:\n",
    "        print(x+y)\n",
    "    else:\n",
    "        break"
   ]
  },
  {
   "cell_type": "code",
   "execution_count": 24,
   "id": "4df347dc-ca12-4110-89b3-5efe5cb480f3",
   "metadata": {},
   "outputs": [],
   "source": [
    "class first:\n",
    "    def __init__(self):\n",
    "        print(\"This is my first class\")\n",
    "\n"
   ]
  },
  {
   "cell_type": "code",
   "execution_count": 25,
   "id": "6351cad5-e8c8-40bf-8279-ef024dc9d1dc",
   "metadata": {},
   "outputs": [
    {
     "name": "stdout",
     "output_type": "stream",
     "text": [
      "This is my first class\n"
     ]
    }
   ],
   "source": [
    "f=first()"
   ]
  },
  {
   "cell_type": "code",
   "execution_count": 27,
   "id": "33991e76-f3d8-4d0e-85e6-d53be0748d0d",
   "metadata": {},
   "outputs": [],
   "source": [
    "class items:\n",
    "    def __init__(self,nm,price):\n",
    "        self.nm=nm\n",
    "        self.price=price\n",
    "        print(\"item nm=\",self.nm,\"item price =\",self.price)\n",
    "    def disp(self):\n",
    "        print(\"item nm=\",self.nm,\"item price=\",self.price)"
   ]
  },
  {
   "cell_type": "code",
   "execution_count": 28,
   "id": "d3987f4b-23bc-44cd-b251-5f68baaded55",
   "metadata": {},
   "outputs": [
    {
     "name": "stdout",
     "output_type": "stream",
     "text": [
      "item nm= mouse item price = 400\n"
     ]
    }
   ],
   "source": [
    "t1=items(\"mouse\",400)"
   ]
  },
  {
   "cell_type": "code",
   "execution_count": 29,
   "id": "6420200b-e44d-4f2f-b1e7-fa6895bd0777",
   "metadata": {},
   "outputs": [
    {
     "name": "stdout",
     "output_type": "stream",
     "text": [
      "item nm= mouse item price= 400\n"
     ]
    }
   ],
   "source": [
    "t1.disp()"
   ]
  },
  {
   "cell_type": "code",
   "execution_count": 43,
   "id": "64a8008e-dcc9-46a5-9755-00e45d5c6c55",
   "metadata": {},
   "outputs": [],
   "source": [
    "class items:\n",
    "    def __init__(self,nm,price):\n",
    "        self.nm=nm\n",
    "        self.price=price\n",
    "        print(\"item nm=\",self.nm,\"item price begore gst=\",self.price)\n",
    "    def disp(self):\n",
    "        print(\"item nm=\",self.nm,\"item price after gst=\",self.price*0.18+self.price)\n",
    "    def gst(self):\n",
    "        print(\"price after gst is=\",self.price+.18*self.price)"
   ]
  },
  {
   "cell_type": "code",
   "execution_count": 37,
   "id": "01c60c7e-24d2-4f32-b0b0-e31634b28156",
   "metadata": {},
   "outputs": [
    {
     "name": "stdout",
     "output_type": "stream",
     "text": [
      "item nm= laptop item price begore gst= 1000\n"
     ]
    }
   ],
   "source": [
    "t1=items(\"laptop\",1000)"
   ]
  },
  {
   "cell_type": "code",
   "execution_count": 38,
   "id": "a7a1d570-510e-4f08-8fa0-dde73194cf7a",
   "metadata": {},
   "outputs": [
    {
     "name": "stdout",
     "output_type": "stream",
     "text": [
      "item nm= laptop item price after gst= 1180.0\n"
     ]
    }
   ],
   "source": [
    "t1.disp()"
   ]
  },
  {
   "cell_type": "code",
   "execution_count": 39,
   "id": "d9c22184-64c6-4e00-bf38-c7549c841eb5",
   "metadata": {},
   "outputs": [
    {
     "name": "stdout",
     "output_type": "stream",
     "text": [
      "item nm= mouse item price begore gst= 200\n"
     ]
    }
   ],
   "source": [
    "t2=items(\"mouse\",200)"
   ]
  },
  {
   "cell_type": "code",
   "execution_count": 40,
   "id": "bdde3fc7-5685-40cb-9b50-ce4fb708954e",
   "metadata": {},
   "outputs": [
    {
     "name": "stdout",
     "output_type": "stream",
     "text": [
      "item nm= mouse item price after gst= 236.0\n"
     ]
    }
   ],
   "source": [
    "t2.disp()"
   ]
  },
  {
   "cell_type": "code",
   "execution_count": 45,
   "id": "673998d2-35ef-44d8-b46d-793eea01914b",
   "metadata": {},
   "outputs": [
    {
     "name": "stdout",
     "output_type": "stream",
     "text": [
      "item nm= jjjj item price begore gst= 2000\n"
     ]
    }
   ],
   "source": [
    "t3=items(\"jjjj\",2000)"
   ]
  },
  {
   "cell_type": "code",
   "execution_count": 46,
   "id": "528354b0-4afc-4198-813d-25bc6e5d2782",
   "metadata": {},
   "outputs": [
    {
     "name": "stdout",
     "output_type": "stream",
     "text": [
      "price after gst is= 2360.0\n"
     ]
    }
   ],
   "source": [
    "t3.gst()"
   ]
  },
  {
   "cell_type": "code",
   "execution_count": null,
   "id": "740e5949-205d-4a61-809d-1bd86f63ed93",
   "metadata": {},
   "outputs": [],
   "source": [
    " "
   ]
  }
 ],
 "metadata": {
  "kernelspec": {
   "display_name": "Python 3 (ipykernel)",
   "language": "python",
   "name": "python3"
  },
  "language_info": {
   "codemirror_mode": {
    "name": "ipython",
    "version": 3
   },
   "file_extension": ".py",
   "mimetype": "text/x-python",
   "name": "python",
   "nbconvert_exporter": "python",
   "pygments_lexer": "ipython3",
   "version": "3.12.4"
  }
 },
 "nbformat": 4,
 "nbformat_minor": 5
}

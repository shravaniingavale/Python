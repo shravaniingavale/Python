{
 "cells": [
  {
   "cell_type": "code",
   "execution_count": 13,
   "id": "4f99d9c1-3bc0-43c6-809f-ff1bd622ebc8",
   "metadata": {},
   "outputs": [],
   "source": [
    "class vector3:\n",
    "    def __init__(self, *components):\n",
    "        self.components = components\n",
    "\n",
    "    def __str__(self):\n",
    "        return f'{self.components}'\n",
    "    def __len__(self):\n",
    "        return len(self.components)"
   ]
  },
  {
   "cell_type": "code",
   "execution_count": 14,
   "id": "c602b496-5512-491e-b82b-e0310b51fc51",
   "metadata": {},
   "outputs": [],
   "source": [
    "v=vector3(1,6,1,4,5)"
   ]
  },
  {
   "cell_type": "code",
   "execution_count": 15,
   "id": "bb558afa-c0ff-4097-8f16-83496de6bf88",
   "metadata": {},
   "outputs": [
    {
     "name": "stdout",
     "output_type": "stream",
     "text": [
      "(1, 6, 1, 4, 5)\n"
     ]
    }
   ],
   "source": [
    "print(v)"
   ]
  },
  {
   "cell_type": "code",
   "execution_count": 8,
   "id": "510ebe5a-97b9-46c6-9a1e-872d54fadfd9",
   "metadata": {},
   "outputs": [],
   "source": [
    "class vector4:\n",
    "    def __init__(self, *components):\n",
    "        self.components = components\n",
    "    def __str__(self):\n",
    "        return f'{self.components}'\n",
    "    def __len__(self):\n",
    "        return len(self.components)\n",
    "    def __bool__(self):\n",
    "        if not self.components:\n",
    "            return False\n",
    "        return False if not self.components[0] else True"
   ]
  },
  {
   "cell_type": "code",
   "execution_count": 9,
   "id": "84fee383-4fa3-494d-b083-8ae85935d57b",
   "metadata": {},
   "outputs": [
    {
     "name": "stdout",
     "output_type": "stream",
     "text": [
      "False\n",
      "True\n",
      "False\n",
      "True\n"
     ]
    }
   ],
   "source": [
    "a=vector4()\n",
    "b=vector4(1,3)\n",
    "c=vector4(0,9,3,4,8)\n",
    "d=vector4(4,0,5)\n",
    "\n",
    "print(bool(a))\n",
    "print(bool(b))\n",
    "print(bool(c))\n",
    "print(bool(d))"
   ]
  },
  {
   "cell_type": "code",
   "execution_count": 21,
   "id": "ae53351e-ba97-4461-bf2f-31303bb279a8",
   "metadata": {},
   "outputs": [],
   "source": [
    "class Data:\n",
    "\n",
    "    def __init__(self,value):\n",
    "        self.value=value\n",
    "    def __add__(self, other):\n",
    "        return Data(self.value + other.value)\n",
    "    def __sub__(self, other):\n",
    "        return Data(self.value - other.value)\n",
    "    def __mul__(self,other):\n",
    "        return Data(self.value * other.value)\n",
    "    def __truediv__(self,other):\n",
    "        return Data(self.value / other.value)\n",
    "    def __floordiv__(self,other):\n",
    "        return Data(self.value // other.value)\n",
    "    def __mod__(self,other):\n",
    "        return Data(self.value % other.value)\n",
    "    def __pow__(self,other):\n",
    "        return Data(self.value ** other.value)"
   ]
  },
  {
   "cell_type": "code",
   "execution_count": 22,
   "id": "60a2adb8-34c3-486d-8c39-d08e8e19ad37",
   "metadata": {},
   "outputs": [],
   "source": [
    "d1=Data(56)\n",
    "d2=Data(8)"
   ]
  },
  {
   "cell_type": "code",
   "execution_count": 23,
   "id": "533437f1-1af9-4b3d-93b3-9ea651e2ef08",
   "metadata": {},
   "outputs": [
    {
     "name": "stdout",
     "output_type": "stream",
     "text": [
      "64\n"
     ]
    }
   ],
   "source": [
    "b=d1+d2\n",
    "print(b.value)"
   ]
  },
  {
   "cell_type": "code",
   "execution_count": 24,
   "id": "53cbaa6c-7b9d-4cbd-ad62-cb18d1e0d411",
   "metadata": {},
   "outputs": [],
   "source": [
    "c=d1-d2\n",
    "b=d1+d2\n",
    "a=d1 * d2\n",
    "d=d1/d2\n",
    "e=d1//d2\n",
    "f=d1 % d2\n",
    "g=d1 ** d2"
   ]
  },
  {
   "cell_type": "code",
   "execution_count": 26,
   "id": "37465dbb-efe0-433d-bc2d-90ce0219978d",
   "metadata": {},
   "outputs": [
    {
     "name": "stdout",
     "output_type": "stream",
     "text": [
      "48\n",
      "64\n",
      "448\n",
      "7.0\n",
      "7\n",
      "0\n",
      "96717311574016\n"
     ]
    }
   ],
   "source": [
    "print(c.value)\n",
    "print(b.value)\n",
    "print(a.value)\n",
    "print(d.value)\n",
    "print(e.value)\n",
    "print(f.value)\n",
    "print(g.value)"
   ]
  },
  {
   "cell_type": "code",
   "execution_count": 36,
   "id": "1ffe28ee-8600-4afb-a03b-3db933b9e0ab",
   "metadata": {},
   "outputs": [],
   "source": [
    "class Doc:\n",
    "    def __init__(self, string):\n",
    "        self.string = string\n",
    "    def __repr(self):\n",
    "        return f\"Doc(String='{self.string}')\"\n",
    "    def __str__(self):\n",
    "        return f'{self.string}'\n",
    "\n",
    "    def __add__(self,other):\n",
    "        return Doc(self.string + \" \" + other.string)"
   ]
  },
  {
   "cell_type": "code",
   "execution_count": 37,
   "id": "7a446134-585f-4af6-87c0-e7763903aa27",
   "metadata": {},
   "outputs": [
    {
     "name": "stdout",
     "output_type": "stream",
     "text": [
      "Hello welcome\n"
     ]
    }
   ],
   "source": [
    "d1=Doc(\"Hello\")\n",
    "d2=Doc(\"welcome\")\n",
    "print(d1+d2)\n"
   ]
  },
  {
   "cell_type": "code",
   "execution_count": 38,
   "id": "0f38d97f-bf93-465b-a373-c76778b8227d",
   "metadata": {},
   "outputs": [
    {
     "name": "stdout",
     "output_type": "stream",
     "text": [
      "Welcome 2025\n"
     ]
    }
   ],
   "source": [
    "d1=Doc(\"Welcome\")\n",
    "d2=Doc(\"2025\")\n",
    "print(d1+d2)"
   ]
  },
  {
   "cell_type": "code",
   "execution_count": 49,
   "id": "cd3b9cde-4052-4313-875e-9ea384e6fc05",
   "metadata": {},
   "outputs": [],
   "source": [
    "class Hashtag:\n",
    "    def __init__(self, string):\n",
    "        self.string = '#' + string\n",
    "    def __repr__(self):\n",
    "        return f\"Hashtag(string='{self.string}')\"\n",
    "    def __str__(self):\n",
    "        return f'{self.string}'\n",
    "    def __add__(self,other):\n",
    "        return Hashtag(self.string[1:] + \" \" + other.string)"
   ]
  },
  {
   "cell_type": "code",
   "execution_count": 50,
   "id": "3bdf9a1b-578d-473f-9dce-5aad62320b10",
   "metadata": {},
   "outputs": [
    {
     "name": "stdout",
     "output_type": "stream",
     "text": [
      "#python #developer #2025\n"
     ]
    }
   ],
   "source": [
    "h1=Hashtag(\"python\")\n",
    "h2=Hashtag(\"developer\")\n",
    "h3=Hashtag(\"2025\")\n",
    "print(h1+h2+h3)"
   ]
  },
  {
   "cell_type": "code",
   "execution_count": 52,
   "id": "256ca137-ba93-4f29-a3e6-365071a20b37",
   "metadata": {},
   "outputs": [],
   "source": [
    "class complex:\n",
    "    def __init__(self,real,imag):\n",
    "        self.real=real\n",
    "        self.imag=imag\n",
    "    def __add__(self,other):\n",
    "        real_part=self.real+other.real\n",
    "        imag_part=self.imag+other.imag\n",
    "        return complex(real_part,imag_part)\n",
    "    def __str__(self):\n",
    "        return (f'{self.real}+{self.imag}')"
   ]
  },
  {
   "cell_type": "code",
   "execution_count": 53,
   "id": "449498ce-a49b-4a34-8f68-01edff226588",
   "metadata": {},
   "outputs": [],
   "source": [
    "c1=complex(5,6)\n",
    "c2=complex(8,9)"
   ]
  },
  {
   "cell_type": "code",
   "execution_count": 54,
   "id": "577a239b-ddf1-4254-86d4-cdacc5e533dc",
   "metadata": {},
   "outputs": [
    {
     "name": "stdout",
     "output_type": "stream",
     "text": [
      "13+15\n"
     ]
    }
   ],
   "source": [
    "print(c1+c2)"
   ]
  },
  {
   "cell_type": "code",
   "execution_count": 59,
   "id": "3f742d08-9f98-468b-8dd6-bc98ba3c6165",
   "metadata": {},
   "outputs": [],
   "source": [
    "class DataCollection:\n",
    "    def __init__(self,data):\n",
    "        self.data = data\n",
    "    def __iter__(self):\n",
    "        self.index=0\n",
    "        return self\n",
    "    def __next__(self):\n",
    "        if self.index<len(self.data):\n",
    "            result = self.data[self.index]\n",
    "            self.index += 1\n",
    "            return result\n",
    "        else:\n",
    "            raise StopIteration\n",
    "    "
   ]
  },
  {
   "cell_type": "code",
   "execution_count": 60,
   "id": "b700be07-4c75-43a8-877a-df649a747df4",
   "metadata": {},
   "outputs": [
    {
     "name": "stdout",
     "output_type": "stream",
     "text": [
      "1\n",
      "2\n",
      "3\n",
      "4\n",
      "5\n"
     ]
    }
   ],
   "source": [
    "data = [1,2,3,4,5]\n",
    "collection = DataCollection(data)\n",
    "for item in collection:\n",
    "    print(item)"
   ]
  },
  {
   "cell_type": "code",
   "execution_count": 61,
   "id": "c7ce7935-037d-4ceb-81d3-65d1b3275689",
   "metadata": {},
   "outputs": [
    {
     "name": "stdout",
     "output_type": "stream",
     "text": [
      "[1, 2, 3, 4, 5]\n"
     ]
    }
   ],
   "source": [
    "print(data)"
   ]
  },
  {
   "cell_type": "code",
   "execution_count": 62,
   "id": "140ca158-2047-48c7-be62-fe26ba40f0c2",
   "metadata": {},
   "outputs": [],
   "source": [
    "class CustomerDataFrame:\n",
    "    def __init__(self,data):\n",
    "        self.data = data\n",
    "\n",
    "    def __getitem__(self,key):\n",
    "        return self.data[key]"
   ]
  },
  {
   "cell_type": "code",
   "execution_count": 65,
   "id": "769a57d5-56ab-42ea-a63f-308e53bcd2f5",
   "metadata": {},
   "outputs": [
    {
     "name": "stdout",
     "output_type": "stream",
     "text": [
      "[4, 5, 6]\n"
     ]
    }
   ],
   "source": [
    "data = [[1,2,3],[4,5,6],[7,8,9]]\n",
    "my_dataframe = CustomerDataFrame(data)\n",
    "print(my_dataframe[1])"
   ]
  },
  {
   "cell_type": "code",
   "execution_count": 67,
   "id": "e96e4f37-9fbd-4d89-a511-7425a437f397",
   "metadata": {},
   "outputs": [
    {
     "name": "stdout",
     "output_type": "stream",
     "text": [
      "[4, 5, 6]\n"
     ]
    }
   ],
   "source": [
    "print(my_dataframe[1])"
   ]
  },
  {
   "cell_type": "code",
   "execution_count": 68,
   "id": "97f48ed8-19d7-4a31-8f38-6e2ae4062069",
   "metadata": {},
   "outputs": [],
   "source": [
    "def __setitem__(self,key,value):\n",
    "    self.data[key] = value"
   ]
  },
  {
   "cell_type": "code",
   "execution_count": 69,
   "id": "1c8ffaff-03f7-4bc1-8143-dce535318d78",
   "metadata": {},
   "outputs": [
    {
     "name": "stdout",
     "output_type": "stream",
     "text": [
      "Before Change  [4, 5, 6]\n"
     ]
    },
    {
     "ename": "TypeError",
     "evalue": "'CustomerDataFrame' object does not support item assignment",
     "output_type": "error",
     "traceback": [
      "\u001b[1;31m---------------------------------------------------------------------------\u001b[0m",
      "\u001b[1;31mTypeError\u001b[0m                                 Traceback (most recent call last)",
      "Cell \u001b[1;32mIn[69], line 4\u001b[0m\n\u001b[0;32m      2\u001b[0m my_dataframe \u001b[38;5;241m=\u001b[39m CustomerDataFrame(data)\n\u001b[0;32m      3\u001b[0m \u001b[38;5;28mprint\u001b[39m(\u001b[38;5;124m\"\u001b[39m\u001b[38;5;124mBefore Change \u001b[39m\u001b[38;5;124m\"\u001b[39m,my_dataframe[\u001b[38;5;241m1\u001b[39m])\n\u001b[1;32m----> 4\u001b[0m \u001b[43mmy_dataframe\u001b[49m\u001b[43m[\u001b[49m\u001b[38;5;241;43m1\u001b[39;49m\u001b[43m]\u001b[49m \u001b[38;5;241m=\u001b[39m [\u001b[38;5;241m10\u001b[39m, \u001b[38;5;241m11\u001b[39m ,\u001b[38;5;241m12\u001b[39m]\n\u001b[0;32m      5\u001b[0m \u001b[38;5;28mprint\u001b[39m(\u001b[38;5;124m\"\u001b[39m\u001b[38;5;124mAfter change \u001b[39m\u001b[38;5;124m\"\u001b[39m,my_dataframe[\u001b[38;5;241m1\u001b[39m])\n",
      "\u001b[1;31mTypeError\u001b[0m: 'CustomerDataFrame' object does not support item assignment"
     ]
    }
   ],
   "source": [
    "data = [[1,2,3],[4,5,6],[7,8,9]]\n",
    "my_dataframe = CustomerDataFrame(data)\n",
    "print(\"Before Change \",my_dataframe[1])\n",
    "my_dataframe[1] = [10, 11 ,12]\n",
    "print(\"After change \",my_dataframe[1])\n",
    "\n",
    "\n"
   ]
  },
  {
   "cell_type": "code",
   "execution_count": null,
   "id": "aaec9355-754d-403c-8e91-282ea3d53bb1",
   "metadata": {},
   "outputs": [],
   "source": []
  }
 ],
 "metadata": {
  "kernelspec": {
   "display_name": "Python 3 (ipykernel)",
   "language": "python",
   "name": "python3"
  },
  "language_info": {
   "codemirror_mode": {
    "name": "ipython",
    "version": 3
   },
   "file_extension": ".py",
   "mimetype": "text/x-python",
   "name": "python",
   "nbconvert_exporter": "python",
   "pygments_lexer": "ipython3",
   "version": "3.12.4"
  }
 },
 "nbformat": 4,
 "nbformat_minor": 5
}

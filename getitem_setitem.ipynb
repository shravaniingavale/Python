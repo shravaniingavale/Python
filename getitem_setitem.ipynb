{
 "cells": [
  {
   "cell_type": "code",
   "execution_count": 1,
   "id": "4c94f991-a7ea-4e4d-986f-502bfb54c476",
   "metadata": {},
   "outputs": [],
   "source": [
    "class CustomerDataFrame:\n",
    "    def __init__(self,data):\n",
    "        self.data = data # Assume data is a list of lists\n",
    "    def __getitem__(self,key):\n",
    "        #retrieve a specific row from the data\n",
    "        return self.data[key]"
   ]
  },
  {
   "cell_type": "code",
   "execution_count": 2,
   "id": "5e906882-103f-4372-8d90-8c6993c07612",
   "metadata": {},
   "outputs": [
    {
     "name": "stdout",
     "output_type": "stream",
     "text": [
      "[4, 5, 6]\n"
     ]
    }
   ],
   "source": [
    "data = [[1,2,3],[4,5,6],[7,8,9]]\n",
    "my_dataframe = CustomerDataFrame(data)\n",
    "print(my_dataframe[1])"
   ]
  },
  {
   "cell_type": "code",
   "execution_count": 5,
   "id": "a3c5d663-486d-4b85-84f4-cc8ba226efa4",
   "metadata": {},
   "outputs": [],
   "source": [
    "class CustomerDataFrame:\n",
    "    def __init__(self,data):\n",
    "        self.data = data # Assume data is a list of lists\n",
    "    def __getitem__(self,key):\n",
    "        #retrieve a specific row from the data\n",
    "        return self.data[key]\n",
    "    def __setitem__(self,key,value):\n",
    "        self.data[key] = value\n",
    "    def __iter__(self):\n",
    "        self.index=0\n",
    "        return self\n",
    "\n",
    "    def __next__(self):\n",
    "        if self.index < len(self.data):\n",
    "            result = self.data[self.index]\n",
    "            self.index += 1\n",
    "            return result\n",
    "        else:\n",
    "            raise StopIteration\n",
    "            "
   ]
  },
  {
   "cell_type": "code",
   "execution_count": 8,
   "id": "24a90726-56bc-4b1c-b8b6-abb5a715dc8d",
   "metadata": {},
   "outputs": [],
   "source": [
    "data = [[1,2,3],[4,5,6],[7,8,9],[]]\n",
    "my_dataframe = CustomerDataFrame(data)"
   ]
  },
  {
   "cell_type": "code",
   "execution_count": 9,
   "id": "b7b37510-fc7a-4cf7-95ed-96b462cfa426",
   "metadata": {},
   "outputs": [
    {
     "name": "stdout",
     "output_type": "stream",
     "text": [
      "Before change  [4, 5, 6]\n"
     ]
    }
   ],
   "source": [
    "print(\"Before change \",my_dataframe[1])"
   ]
  },
  {
   "cell_type": "code",
   "execution_count": 10,
   "id": "b4979895-002c-48c3-84a6-d8691549cd48",
   "metadata": {},
   "outputs": [],
   "source": [
    "my_dataframe[1] =[10,11,12]"
   ]
  },
  {
   "cell_type": "code",
   "execution_count": 14,
   "id": "f987ef0a-9f41-4222-b383-35712337033d",
   "metadata": {},
   "outputs": [
    {
     "name": "stdout",
     "output_type": "stream",
     "text": [
      "After change [10, 11, 12]\n",
      "[13, 14, 15]\n",
      "[1, 2, 3]\n",
      "[10, 11, 12]\n",
      "[7, 8, 9]\n",
      "[13, 14, 15]\n"
     ]
    }
   ],
   "source": [
    "print(\"After change\", my_dataframe[1])\n",
    "my_dataframe[1] = [10,11,12]\n",
    "my_dataframe[3]=[13,14,15]\n",
    "print(my_dataframe[3])\n",
    "\n",
    "for x in my_dataframe:\n",
    "    print(x)"
   ]
  },
  {
   "cell_type": "code",
   "execution_count": 15,
   "id": "832afc99-1375-4059-8d65-455e5c4482da",
   "metadata": {},
   "outputs": [
    {
     "name": "stdout",
     "output_type": "stream",
     "text": [
      "[[1, 2, 3], [10, 11, 12], [7, 8, 9], [13, 14, 15]]\n"
     ]
    }
   ],
   "source": [
    "print(my_dataframe.data)"
   ]
  },
  {
   "cell_type": "code",
   "execution_count": 29,
   "id": "95be3d29-4d31-4e7d-ad76-d6b47c56c703",
   "metadata": {},
   "outputs": [],
   "source": [
    "class products:\n",
    "    def __getitem__(self, items):\n",
    "        print(f'Item: {items}')\n",
    "        print(f'Item: {items}, Type: {type(items)}')"
   ]
  },
  {
   "cell_type": "code",
   "execution_count": 32,
   "id": "dd5ac905-b556-4bb8-bd6a-969fc746770c",
   "metadata": {},
   "outputs": [
    {
     "name": "stdout",
     "output_type": "stream",
     "text": [
      "Item: ('Ram', 'ROM')\n",
      "Item: ('Ram', 'ROM'), Type: <class 'tuple'>\n",
      "Item: {'Storage': 'SSD'}\n",
      "Item: {'Storage': 'SSD'}, Type: <class 'dict'>\n",
      "Item: Graphic card\n",
      "Item: Graphic card, Type: <class 'str'>\n",
      "Item: ['Monitor', 'cpu', 'keyboard']\n",
      "Item: ['Monitor', 'cpu', 'keyboard'], Type: <class 'list'>\n",
      "Item: {'cpu', 'Monitor', 'keyboard'}\n",
      "Item: {'cpu', 'Monitor', 'keyboard'}, Type: <class 'set'>\n"
     ]
    }
   ],
   "source": [
    "item = products()\n",
    "item['Ram', 'ROM']\n",
    "item[{'Storage':'SSD'}]\n",
    "item['Graphic card']\n",
    "item[['Monitor','cpu','keyboard']]\n",
    "item[{'Monitor','cpu','keyboard'}]\n"
   ]
  },
  {
   "cell_type": "code",
   "execution_count": 36,
   "id": "f1e8debb-6d86-4bb6-b892-e5ddb4993031",
   "metadata": {},
   "outputs": [],
   "source": [
    "class cart:\n",
    "    def __init__(self,items,price):\n",
    "        self.items = items\n",
    "        self.price = price\n",
    "\n",
    "    def __getitem__(self,value):\n",
    "        print(value, type(value))"
   ]
  },
  {
   "cell_type": "code",
   "execution_count": 38,
   "id": "41620d53-6265-4483-a578-1f2531d02d59",
   "metadata": {},
   "outputs": [
    {
     "name": "stdout",
     "output_type": "stream",
     "text": [
      "Webcam <class 'str'>\n",
      "2500 <class 'int'>\n"
     ]
    }
   ],
   "source": [
    "obj = cart('Webcam',2500)\n",
    "\n",
    "obj[obj.items]\n",
    "obj[obj.price]\n"
   ]
  },
  {
   "cell_type": "code",
   "execution_count": 43,
   "id": "8d4d83b1-ed54-4062-b70d-47dc21d6d73b",
   "metadata": {},
   "outputs": [],
   "source": [
    "class Roles:\n",
    "    def __init__(self, role, name):\n",
    "        self.detail = {\n",
    "            'name':name,\n",
    "            'role':role }\n",
    "    def __getitem__(self,key):\n",
    "        return self.detail[key]\n",
    "\n",
    "    def printrole(self):\n",
    "        return self.__getitem__('role'),self.__getitem__('name')\n",
    "\n",
    "    def __setitem__(self,key,value):\n",
    "        self.detail[key]=value\n",
    "\n",
    "    def assignrole(self, role, name):\n",
    "        print(f'{role} role has been assigned to {name}.')\n",
    "        return self.__setitem__('role',role), self.__setitem__('name',name)\n",
    "\n",
    "    "
   ]
  },
  {
   "cell_type": "code",
   "execution_count": 45,
   "id": "02336894-64d8-472b-b70f-37b7fc59d03a",
   "metadata": {},
   "outputs": [
    {
     "name": "stdout",
     "output_type": "stream",
     "text": [
      "('Python Dev', 'Arpita')\n",
      "C++ dev role has been assigned to Sameer.\n",
      "('C++ dev', 'Sameer')\n",
      "PHP dev role has been assigned to Alex.\n",
      "('PHP dev', 'Alex')\n"
     ]
    }
   ],
   "source": [
    "data = Roles('Python Dev', 'Arpita')\n",
    "print(data.printrole())\n",
    "\n",
    "data.assignrole('C++ dev','Sameer')\n",
    "\n",
    "print(data.printrole())\n",
    "\n",
    "data.assignrole('PHP dev', 'Alex')\n",
    "print(data.printrole())\n",
    "\n"
   ]
  },
  {
   "cell_type": "code",
   "execution_count": 46,
   "id": "70183d96-6344-4635-8bc4-d7b88f2073d9",
   "metadata": {},
   "outputs": [
    {
     "name": "stdout",
     "output_type": "stream",
     "text": [
      "C++ dev role has been assigned to Sameer.\n",
      "('C++ dev', 'Sameer')\n"
     ]
    }
   ],
   "source": [
    "#setting roles for other guys\n",
    "data.assignrole('C++ dev', 'Sameer')\n",
    "print(data.printrole())"
   ]
  },
  {
   "cell_type": "code",
   "execution_count": 1,
   "id": "7cd968c3-af16-4f96-83ce-aaba4369d7bb",
   "metadata": {},
   "outputs": [],
   "source": [
    "class friends:\n",
    "    def __init__(self,name1,name2,name3,name4):\n",
    "        self.n={\n",
    "            'name1':name1,\n",
    "            'name2':name2,\n",
    "            'name3':name3,\n",
    "            'name4':name4\n",
    "        }\n",
    "    def delname(self,key):\n",
    "        self.n.__delitem__(key)\n",
    "\n",
    "    def setname(self, key, value):\n",
    "        self.n[key] = value"
   ]
  },
  {
   "cell_type": "code",
   "execution_count": 2,
   "id": "5486d457-69f0-4cfa-a43c-ce03186f310e",
   "metadata": {},
   "outputs": [
    {
     "name": "stdout",
     "output_type": "stream",
     "text": [
      "{'name1': 'Seema', 'name2': 'Rita', 'name3': 'Yashi', 'name4': 'Abha'} \n",
      "\n"
     ]
    }
   ],
   "source": [
    "friend=friends('Seema','Rita','Yashi','Abha')\n",
    "print(friend.n,\"\\n\")"
   ]
  },
  {
   "cell_type": "code",
   "execution_count": 3,
   "id": "4de10c1b-6150-42ba-9a82-ef5924088cda",
   "metadata": {},
   "outputs": [
    {
     "name": "stdout",
     "output_type": "stream",
     "text": [
      "after deleting the name3 entry\n",
      "{'name1': 'Seema', 'name2': 'Rita', 'name4': 'Abha'} \n",
      "\n"
     ]
    }
   ],
   "source": [
    "friend.delname('name3')\n",
    "print('after deleting the name3 entry')\n",
    "print(friend.n,\"\\n\")"
   ]
  },
  {
   "cell_type": "code",
   "execution_count": 4,
   "id": "c52afec4-c22f-4088-bede-6a908681889d",
   "metadata": {},
   "outputs": [
    {
     "name": "stdout",
     "output_type": "stream",
     "text": [
      "Name2 entry modified\n",
      "{'name1': 'Seema', 'name2': 'yogesh', 'name4': 'Abha'} \n",
      "\n"
     ]
    }
   ],
   "source": [
    "friend.setname('name2','yogesh')\n",
    "print('Name2 entry modified')\n",
    "print(friend.n,\"\\n\")\n"
   ]
  },
  {
   "cell_type": "code",
   "execution_count": 5,
   "id": "5f8bb7bd-44e2-4066-8014-755c958bac90",
   "metadata": {},
   "outputs": [
    {
     "name": "stdout",
     "output_type": "stream",
     "text": [
      "after deleting name2 entry\n",
      "{'name1': 'Seema', 'name4': 'Abha'}\n"
     ]
    }
   ],
   "source": [
    "friend.delname('name2')\n",
    "print('after deleting name2 entry')\n",
    "print(friend.n)"
   ]
  },
  {
   "cell_type": "code",
   "execution_count": null,
   "id": "f25cca40-d566-427c-babc-5fec0e6f3d0b",
   "metadata": {},
   "outputs": [],
   "source": []
  }
 ],
 "metadata": {
  "kernelspec": {
   "display_name": "Python 3 (ipykernel)",
   "language": "python",
   "name": "python3"
  },
  "language_info": {
   "codemirror_mode": {
    "name": "ipython",
    "version": 3
   },
   "file_extension": ".py",
   "mimetype": "text/x-python",
   "name": "python",
   "nbconvert_exporter": "python",
   "pygments_lexer": "ipython3",
   "version": "3.12.4"
  }
 },
 "nbformat": 4,
 "nbformat_minor": 5
}

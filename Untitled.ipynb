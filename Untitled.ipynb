{
 "cells": [
  {
   "cell_type": "code",
   "execution_count": 1,
   "id": "b68a2356-5bc6-45a2-bb1f-9bc9cf2ba13c",
   "metadata": {},
   "outputs": [],
   "source": [
    "class fruits:\n",
    "    def __init__(self):\n",
    "        self.nm='xyz'\n",
    "        self.nm=input(\"enter name\")"
   ]
  },
  {
   "cell_type": "code",
   "execution_count": 2,
   "id": "79486426-2ad0-4978-b384-65e49769286d",
   "metadata": {},
   "outputs": [
    {
     "name": "stdin",
     "output_type": "stream",
     "text": [
      "enter name hhh\n"
     ]
    }
   ],
   "source": [
    "f=fruits()"
   ]
  },
  {
   "cell_type": "code",
   "execution_count": null,
   "id": "e9144b71-f6fc-4f87-818f-49aabc01b255",
   "metadata": {},
   "outputs": [],
   "source": []
  }
 ],
 "metadata": {
  "kernelspec": {
   "display_name": "Python 3 (ipykernel)",
   "language": "python",
   "name": "python3"
  },
  "language_info": {
   "codemirror_mode": {
    "name": "ipython",
    "version": 3
   },
   "file_extension": ".py",
   "mimetype": "text/x-python",
   "name": "python",
   "nbconvert_exporter": "python",
   "pygments_lexer": "ipython3",
   "version": "3.12.4"
  }
 },
 "nbformat": 4,
 "nbformat_minor": 5
}

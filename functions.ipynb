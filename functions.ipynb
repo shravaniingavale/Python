{
 "cells": [
  {
   "cell_type": "code",
   "execution_count": 4,
   "id": "ad9af53f-7584-48fa-8bd2-7682eb95bee0",
   "metadata": {},
   "outputs": [
    {
     "name": "stdout",
     "output_type": "stream",
     "text": [
      "72\n"
     ]
    }
   ],
   "source": [
    "#without return with parameter\n",
    "def mul(x,y):\n",
    "    print(x*y)\n",
    "    \n",
    "mul(9,8)"
   ]
  },
  {
   "cell_type": "code",
   "execution_count": 16,
   "id": "13cb1f30-0412-4e05-8471-dca1acc88f32",
   "metadata": {},
   "outputs": [
    {
     "name": "stdout",
     "output_type": "stream",
     "text": [
      "15\n"
     ]
    }
   ],
   "source": [
    "#with return with parameter\n",
    "def sum1(p,q):\n",
    "    return p+q\n",
    "print(sum1(7,8))"
   ]
  },
  {
   "cell_type": "code",
   "execution_count": 7,
   "id": "801e166e-5c93-43b1-a360-770933a141ec",
   "metadata": {},
   "outputs": [
    {
     "name": "stdout",
     "output_type": "stream",
     "text": [
      "540\n"
     ]
    }
   ],
   "source": [
    "#without return without parameter\n",
    "z=sum(12,45)\n",
    "print(z)\n"
   ]
  },
  {
   "cell_type": "code",
   "execution_count": 17,
   "id": "19e5c958-3769-49be-a532-0a25a3c3d5b6",
   "metadata": {},
   "outputs": [
    {
     "name": "stdin",
     "output_type": "stream",
     "text": [
      "enter a number 5\n",
      "Enter number 6\n"
     ]
    },
    {
     "name": "stdout",
     "output_type": "stream",
     "text": [
      "30\n",
      "11\n"
     ]
    }
   ],
   "source": [
    "#without return with parameters\n",
    "\n",
    "a=int(input(\"enter a number\"))\n",
    "b=int(input(\"Enter number\"))\n",
    "\n",
    "mul(a,b)\n",
    "\n",
    "print(sum1(a,b))"
   ]
  },
  {
   "cell_type": "code",
   "execution_count": null,
   "id": "2b31abb6-b708-4345-828b-546c2819b784",
   "metadata": {},
   "outputs": [],
   "source": [
    "write a function for following and call it:\n",
    "               1. to calculate area of square\n",
    "                2to calculate area of rectangle\n",
    "                to calculate simple interest\n",
    "                to display table of a given number\n",
    "                "
   ]
  },
  {
   "cell_type": "code",
   "execution_count": 18,
   "id": "908fbf50-e66d-435e-b22c-2a07805fbeb4",
   "metadata": {},
   "outputs": [
    {
     "name": "stdout",
     "output_type": "stream",
     "text": [
      "25\n"
     ]
    }
   ],
   "source": [
    "def areasquare(a):\n",
    "    print(a*a)\n",
    "areasquare(5)"
   ]
  },
  {
   "cell_type": "code",
   "execution_count": 19,
   "id": "51193141-e523-4fd4-b2f2-5640df3603b4",
   "metadata": {},
   "outputs": [
    {
     "data": {
      "text/plain": [
       "36"
      ]
     },
     "execution_count": 19,
     "metadata": {},
     "output_type": "execute_result"
    }
   ],
   "source": [
    "def areaofsquare(a):\n",
    "    return a*a\n",
    "areaofsquare(6)"
   ]
  },
  {
   "cell_type": "code",
   "execution_count": 20,
   "id": "e4c31f27-ce86-4a99-babe-cd89a8d5c143",
   "metadata": {},
   "outputs": [
    {
     "name": "stdout",
     "output_type": "stream",
     "text": [
      "81\n"
     ]
    }
   ],
   "source": [
    "z=areaofsquare(9)\n",
    "print(z)"
   ]
  },
  {
   "cell_type": "code",
   "execution_count": 22,
   "id": "7b618b69-83ff-4599-819f-102a3abbcb92",
   "metadata": {},
   "outputs": [
    {
     "name": "stdin",
     "output_type": "stream",
     "text": [
      "enter the side 6\n"
     ]
    },
    {
     "data": {
      "text/plain": [
       "36"
      ]
     },
     "execution_count": 22,
     "metadata": {},
     "output_type": "execute_result"
    }
   ],
   "source": [
    "a=int(input(\"enter the side\"))\n",
    "areaofsquare(a)"
   ]
  },
  {
   "cell_type": "code",
   "execution_count": 23,
   "id": "0418afb1-6aa9-4c26-b72c-3e9bb0e13316",
   "metadata": {},
   "outputs": [
    {
     "name": "stdout",
     "output_type": "stream",
     "text": [
      "30\n"
     ]
    }
   ],
   "source": [
    "def areaofrect(l,b):\n",
    "    print(l*b)\n",
    "areaofrect(5,6)"
   ]
  },
  {
   "cell_type": "code",
   "execution_count": 25,
   "id": "cc689686-c9b6-48e2-b3b5-740dd7845840",
   "metadata": {},
   "outputs": [
    {
     "data": {
      "text/plain": [
       "42"
      ]
     },
     "execution_count": 25,
     "metadata": {},
     "output_type": "execute_result"
    }
   ],
   "source": [
    "def areaofrect(l,b):\n",
    "    return l*b\n",
    "areaofrect(7,6)"
   ]
  },
  {
   "cell_type": "code",
   "execution_count": 26,
   "id": "49880115-c13e-42ba-af8c-ad9418e62805",
   "metadata": {},
   "outputs": [
    {
     "name": "stdout",
     "output_type": "stream",
     "text": [
      "54\n"
     ]
    }
   ],
   "source": [
    "z=areaofrect(6,9)\n",
    "print(z)"
   ]
  },
  {
   "cell_type": "code",
   "execution_count": 27,
   "id": "262adc5e-bec3-42e1-9cb4-1df30b053cb4",
   "metadata": {},
   "outputs": [
    {
     "name": "stdin",
     "output_type": "stream",
     "text": [
      "enter the length 9\n",
      "enter the breadth 8\n"
     ]
    },
    {
     "data": {
      "text/plain": [
       "72"
      ]
     },
     "execution_count": 27,
     "metadata": {},
     "output_type": "execute_result"
    }
   ],
   "source": [
    "a=int(input(\"enter the length\"))\n",
    "b=int(input(\"enter the breadth\"))\n",
    "areaofrect(a,b)"
   ]
  },
  {
   "cell_type": "code",
   "execution_count": 28,
   "id": "802e03e3-dcc1-4847-9852-d3636d50211a",
   "metadata": {},
   "outputs": [
    {
     "name": "stdout",
     "output_type": "stream",
     "text": [
      "2000.0\n"
     ]
    }
   ],
   "source": [
    "def simpleinterest(p,n,r):\n",
    "    print((p*n*r)/100)\n",
    "simpleinterest(10000,2,10)"
   ]
  },
  {
   "cell_type": "code",
   "execution_count": 29,
   "id": "5e932615-22f1-44a2-9b6b-bae97191f801",
   "metadata": {},
   "outputs": [
    {
     "data": {
      "text/plain": [
       "4000.0"
      ]
     },
     "execution_count": 29,
     "metadata": {},
     "output_type": "execute_result"
    }
   ],
   "source": [
    "def simpleinterest(p,n,r):\n",
    "    return (p*n*r)/100\n",
    "simpleinterest(20000,2,10)"
   ]
  },
  {
   "cell_type": "code",
   "execution_count": 30,
   "id": "11ddbbef-060d-4343-b44b-fb50d599f835",
   "metadata": {},
   "outputs": [
    {
     "name": "stdout",
     "output_type": "stream",
     "text": [
      "8000.0\n"
     ]
    }
   ],
   "source": [
    "z=simpleinterest(40000,2,10)\n",
    "print(z)"
   ]
  },
  {
   "cell_type": "code",
   "execution_count": 32,
   "id": "19dac78b-5a06-45a2-8824-435bf29f058f",
   "metadata": {},
   "outputs": [
    {
     "name": "stdin",
     "output_type": "stream",
     "text": [
      "enter the principal 80000\n",
      "enter the period 2\n",
      "enter the rate 10\n"
     ]
    },
    {
     "data": {
      "text/plain": [
       "16000.0"
      ]
     },
     "execution_count": 32,
     "metadata": {},
     "output_type": "execute_result"
    }
   ],
   "source": [
    "#without return without parameter\n",
    "p=int(input(\"enter the principal\"))\n",
    "n=int(input(\"enter the period\"))\n",
    "r=int(input(\"enter the rate\"))\n",
    "simpleinterest(p,n,r)"
   ]
  },
  {
   "cell_type": "code",
   "execution_count": 35,
   "id": "334e5297-d0cc-416f-a82f-622df0361abe",
   "metadata": {},
   "outputs": [
    {
     "name": "stdout",
     "output_type": "stream",
     "text": [
      "5\n",
      "10\n",
      "15\n",
      "20\n",
      "25\n",
      "30\n",
      "35\n",
      "40\n",
      "45\n",
      "50\n"
     ]
    }
   ],
   "source": [
    "#to display table of a given number\n",
    "def printtable(a):\n",
    "    for i in range(1,11):\n",
    "        print(i*a)\n",
    "printtable(5)"
   ]
  },
  {
   "cell_type": "code",
   "execution_count": 66,
   "id": "55146f7e-d3d0-4f5c-b5dc-af59ac3133f8",
   "metadata": {},
   "outputs": [
    {
     "name": "stdin",
     "output_type": "stream",
     "text": [
      "enter the number 7\n"
     ]
    }
   ],
   "source": [
    " a=int(input(\"enter the number\"))\n",
    "def printtable1(i):\n",
    "   \n",
    "    return i*a\n",
    "\n",
    "\n"
   ]
  },
  {
   "cell_type": "code",
   "execution_count": 67,
   "id": "3a9beb32-4e90-4bf3-abcd-00b2287ce088",
   "metadata": {},
   "outputs": [
    {
     "name": "stdout",
     "output_type": "stream",
     "text": [
      "7\n",
      "14\n",
      "21\n",
      "28\n",
      "35\n",
      "42\n",
      "49\n",
      "56\n",
      "63\n",
      "70\n"
     ]
    }
   ],
   "source": [
    "for i in range(1,11):\n",
    "    print(printtable1(i))"
   ]
  },
  {
   "cell_type": "code",
   "execution_count": 48,
   "id": "5053052a-9150-4962-b1c8-1fcdf9891d34",
   "metadata": {},
   "outputs": [
    {
     "name": "stdin",
     "output_type": "stream",
     "text": [
      "enter the number 6\n"
     ]
    },
    {
     "name": "stdout",
     "output_type": "stream",
     "text": [
      "36\n"
     ]
    }
   ],
   "source": [
    "def area1():\n",
    "     b=int(input(\"enter the number\"))\n",
    "     print(b*b)\n",
    "area1()"
   ]
  },
  {
   "cell_type": "code",
   "execution_count": 51,
   "id": "9e37e6eb-2df6-4625-8741-9cc3f812075b",
   "metadata": {},
   "outputs": [
    {
     "name": "stdin",
     "output_type": "stream",
     "text": [
      "enter the number 9\n"
     ]
    },
    {
     "data": {
      "text/plain": [
       "81"
      ]
     },
     "execution_count": 51,
     "metadata": {},
     "output_type": "execute_result"
    }
   ],
   "source": [
    "def area1():\n",
    "     b=int(input(\"enter the number\"))\n",
    "     return b*b\n",
    "area1()"
   ]
  },
  {
   "cell_type": "code",
   "execution_count": 52,
   "id": "de06d19b-16c3-4b64-9489-0e1344d6c802",
   "metadata": {},
   "outputs": [
    {
     "name": "stdout",
     "output_type": "stream",
     "text": [
      "64\n"
     ]
    }
   ],
   "source": [
    "def area1(side):\n",
    "    print(side*side)\n",
    "area1(8)"
   ]
  },
  {
   "cell_type": "code",
   "execution_count": 53,
   "id": "98b73fa2-224d-4066-aa9d-c59181f6ea14",
   "metadata": {},
   "outputs": [
    {
     "data": {
      "text/plain": [
       "64"
      ]
     },
     "execution_count": 53,
     "metadata": {},
     "output_type": "execute_result"
    }
   ],
   "source": [
    "def area4(side):\n",
    "    return side*side\n",
    "area4(8)"
   ]
  },
  {
   "cell_type": "code",
   "execution_count": 54,
   "id": "5799a12f-d7cb-4ddd-baa9-d4c78724bd56",
   "metadata": {},
   "outputs": [
    {
     "name": "stdout",
     "output_type": "stream",
     "text": [
      "64\n"
     ]
    }
   ],
   "source": [
    "s=area4(8)\n",
    "print(s)"
   ]
  },
  {
   "cell_type": "code",
   "execution_count": 55,
   "id": "e2cc4f89-f326-4340-9789-99dfa87ed151",
   "metadata": {},
   "outputs": [
    {
     "name": "stdin",
     "output_type": "stream",
     "text": [
      "enter the side 5\n"
     ]
    },
    {
     "name": "stdout",
     "output_type": "stream",
     "text": [
      "25\n"
     ]
    }
   ],
   "source": [
    "a=int(input(\"enter the side\"))\n",
    "print(area4(a))"
   ]
  },
  {
   "cell_type": "code",
   "execution_count": 3,
   "id": "040fe511-d978-44d5-9787-e0d550e9f684",
   "metadata": {},
   "outputs": [
    {
     "name": "stdin",
     "output_type": "stream",
     "text": [
      "enter number 1 5\n",
      "enter number 2 5\n",
      "enter number 1 4\n",
      "enter number 2 4\n"
     ]
    },
    {
     "name": "stdout",
     "output_type": "stream",
     "text": [
      "addition of 4 and 4 is 8\n"
     ]
    },
    {
     "name": "stdin",
     "output_type": "stream",
     "text": [
      "enter number 1 f\n"
     ]
    },
    {
     "ename": "ValueError",
     "evalue": "invalid literal for int() with base 10: 'f'",
     "output_type": "error",
     "traceback": [
      "\u001b[1;31m---------------------------------------------------------------------------\u001b[0m",
      "\u001b[1;31mValueError\u001b[0m                                Traceback (most recent call last)",
      "Cell \u001b[1;32mIn[3], line 4\u001b[0m\n\u001b[0;32m      2\u001b[0m y\u001b[38;5;241m=\u001b[39m\u001b[38;5;28mint\u001b[39m(\u001b[38;5;28minput\u001b[39m(\u001b[38;5;124m\"\u001b[39m\u001b[38;5;124menter number 2\u001b[39m\u001b[38;5;124m\"\u001b[39m))\n\u001b[0;32m      3\u001b[0m \u001b[38;5;28;01mwhile\u001b[39;00m x\u001b[38;5;241m>\u001b[39m\u001b[38;5;241m0\u001b[39m \u001b[38;5;129;01mand\u001b[39;00m y\u001b[38;5;241m>\u001b[39m\u001b[38;5;241m0\u001b[39m:\n\u001b[1;32m----> 4\u001b[0m     x\u001b[38;5;241m=\u001b[39m\u001b[38;5;28;43mint\u001b[39;49m\u001b[43m(\u001b[49m\u001b[38;5;28;43minput\u001b[39;49m\u001b[43m(\u001b[49m\u001b[38;5;124;43m\"\u001b[39;49m\u001b[38;5;124;43menter number 1\u001b[39;49m\u001b[38;5;124;43m\"\u001b[39;49m\u001b[43m)\u001b[49m\u001b[43m)\u001b[49m\n\u001b[0;32m      5\u001b[0m     y\u001b[38;5;241m=\u001b[39m\u001b[38;5;28mint\u001b[39m(\u001b[38;5;28minput\u001b[39m(\u001b[38;5;124m\"\u001b[39m\u001b[38;5;124menter number 2\u001b[39m\u001b[38;5;124m\"\u001b[39m))\n\u001b[0;32m      6\u001b[0m     \u001b[38;5;28mprint\u001b[39m(\u001b[38;5;124mf\u001b[39m\u001b[38;5;124m'\u001b[39m\u001b[38;5;124maddition of \u001b[39m\u001b[38;5;132;01m{\u001b[39;00mx\u001b[38;5;132;01m}\u001b[39;00m\u001b[38;5;124m and \u001b[39m\u001b[38;5;132;01m{\u001b[39;00my\u001b[38;5;132;01m}\u001b[39;00m\u001b[38;5;124m is\u001b[39m\u001b[38;5;124m'\u001b[39m,(x\u001b[38;5;241m+\u001b[39my))\n",
      "\u001b[1;31mValueError\u001b[0m: invalid literal for int() with base 10: 'f'"
     ]
    }
   ],
   "source": [
    "x=int(input(\"enter number 1\"))\n",
    "y=int(input(\"enter number 2\"))\n",
    "while x>0 and y>0:\n",
    "    x=int(input(\"enter number 1\"))\n",
    "    y=int(input(\"enter number 2\"))\n",
    "    print(f'addition of {x} and {y} is',(x+y))"
   ]
  },
  {
   "cell_type": "code",
   "execution_count": 4,
   "id": "091c8d41-f055-4f40-8e81-bbab5481fb7b",
   "metadata": {},
   "outputs": [],
   "source": [
    "class first:\n",
    "    def __init__(self):\n",
    "        print(\"This is my first class\")"
   ]
  },
  {
   "cell_type": "code",
   "execution_count": 7,
   "id": "53e3cfb4-f0c6-49e3-afca-dfe6ba914082",
   "metadata": {},
   "outputs": [],
   "source": [
    "class products:\n",
    "    total=0\n",
    "    def __init__(self,pnm,price):\n",
    "        self.pnm=pnm\n",
    "        self.price=price\n",
    "        products.total+=self.price\n",
    "    def bill(self):\n",
    "        print(\"Total bill=\",products.total)\n",
    "        \n",
    "        \n",
    "        \n",
    "        \n",
    "    \n",
    "        "
   ]
  },
  {
   "cell_type": "code",
   "execution_count": 8,
   "id": "a8ca71a3-6fe0-45bd-be7b-2ecea4277a3e",
   "metadata": {},
   "outputs": [],
   "source": [
    "p1=products(\"Milk\",80)"
   ]
  },
  {
   "cell_type": "code",
   "execution_count": 9,
   "id": "02b304b3-808c-4deb-bc27-cc1e1ee6912c",
   "metadata": {},
   "outputs": [],
   "source": [
    "p2=products(\"Bread\",50)\n",
    "p3=products(\"Apple\",250)"
   ]
  },
  {
   "cell_type": "code",
   "execution_count": 12,
   "id": "e784aaf2-f4cc-4f6f-a2c8-4b7788937055",
   "metadata": {},
   "outputs": [
    {
     "name": "stdout",
     "output_type": "stream",
     "text": [
      "Total bill= 380\n"
     ]
    }
   ],
   "source": [
    "p3.bill()"
   ]
  },
  {
   "cell_type": "code",
   "execution_count": 13,
   "id": "68e59c11-cd43-472a-ba0b-9bd283632d20",
   "metadata": {},
   "outputs": [],
   "source": [
    "import time\n",
    "class Container:\n",
    "    @staticmethod\n",
    "    def get_current_time():\n",
    "        return time.strftime('%H:%M:%S',time.localtime())"
   ]
  },
  {
   "cell_type": "code",
   "execution_count": 14,
   "id": "f6073a06-9352-434e-a9cd-550523f4d60a",
   "metadata": {},
   "outputs": [
    {
     "data": {
      "text/plain": [
       "'10:11:37'"
      ]
     },
     "execution_count": 14,
     "metadata": {},
     "output_type": "execute_result"
    }
   ],
   "source": [
    "Container.get_current_time()"
   ]
  },
  {
   "cell_type": "code",
   "execution_count": 29,
   "id": "bd6a94ab-7726-461a-b669-320c030d6503",
   "metadata": {},
   "outputs": [],
   "source": [
    "class Product:\n",
    "    def __init__(self,name,price):\n",
    "        self.name=name\n",
    "        self.price=price\n",
    "    def __str__(self):\n",
    "        return f\"Product(name={self.name},price={self.price}) # user friendly\"\n",
    "    def __repr__(self):\n",
    "        return f\"Product('{self.name}',{self.price})\""
   ]
  },
  {
   "cell_type": "code",
   "execution_count": 30,
   "id": "ea931df5-458e-4aaa-842d-a697316dac3c",
   "metadata": {},
   "outputs": [],
   "source": [
    "product=Product('coffee',5.99)"
   ]
  },
  {
   "cell_type": "code",
   "execution_count": 31,
   "id": "1c9b9ed7-13f2-4eb7-955c-1e5d9ebf44c0",
   "metadata": {},
   "outputs": [
    {
     "name": "stdout",
     "output_type": "stream",
     "text": [
      "Product(name=coffee,price=5.99) # user friendly\n"
     ]
    }
   ],
   "source": [
    "print(product)"
   ]
  },
  {
   "cell_type": "code",
   "execution_count": 32,
   "id": "1325f17f-ae3f-4051-9298-a8f8d56fa14c",
   "metadata": {},
   "outputs": [
    {
     "name": "stdout",
     "output_type": "stream",
     "text": [
      "Product('coffee',5.99)\n"
     ]
    }
   ],
   "source": [
    "print(repr(product))"
   ]
  },
  {
   "cell_type": "code",
   "execution_count": 34,
   "id": "d59e2f85-6230-4f07-909d-864a722dd6d2",
   "metadata": {},
   "outputs": [],
   "source": [
    "class vector3:\n",
    "    def __init__(self, *components):\n",
    "        self.components=components\n",
    "    def __str__(self):\n",
    "        return f'{self.components}'\n",
    "    def __len__(self):\n",
    "        return len(self.components)"
   ]
  },
  {
   "cell_type": "code",
   "execution_count": 35,
   "id": "ad9223b2-f4b8-415e-8bf3-32adfbdff54f",
   "metadata": {},
   "outputs": [],
   "source": [
    "v=vector3(1,6,1,4,5)"
   ]
  },
  {
   "cell_type": "code",
   "execution_count": 36,
   "id": "550e4c0d-f30f-405e-ad8a-6562674b587c",
   "metadata": {},
   "outputs": [
    {
     "name": "stdout",
     "output_type": "stream",
     "text": [
      "(1, 6, 1, 4, 5)\n"
     ]
    }
   ],
   "source": [
    "print(v)"
   ]
  },
  {
   "cell_type": "code",
   "execution_count": 37,
   "id": "b4d8444b-c9c0-4e0c-84c7-8bf57b87edae",
   "metadata": {},
   "outputs": [
    {
     "name": "stdout",
     "output_type": "stream",
     "text": [
      "5\n"
     ]
    }
   ],
   "source": [
    "print(len(v))"
   ]
  },
  {
   "cell_type": "code",
   "execution_count": 39,
   "id": "d71136b3-a468-4eec-8482-c61a06795161",
   "metadata": {},
   "outputs": [],
   "source": [
    "def mysum(*num):\n",
    "    s=0\n",
    "    for n in num:\n",
    "        s=s+n\n",
    "    return s"
   ]
  },
  {
   "cell_type": "code",
   "execution_count": 40,
   "id": "d00eb7c3-06de-4b73-9213-6692b7a966a3",
   "metadata": {},
   "outputs": [
    {
     "name": "stdout",
     "output_type": "stream",
     "text": [
      "6\n"
     ]
    }
   ],
   "source": [
    "print(mysum(1,2,3))"
   ]
  },
  {
   "cell_type": "code",
   "execution_count": 51,
   "id": "4eff0028-744d-4596-8c8e-5faaab7cf28e",
   "metadata": {},
   "outputs": [],
   "source": [
    "class Item:\n",
    "    def __init__(self,name,value):\n",
    "        self.name=name\n",
    "        self.value=value\n",
    "\n",
    "    def __eq__(self,other):\n",
    "        return self.value == other.value\n",
    "\n",
    "    def __ne__(self, other):\n",
    "        return self.value != other.value\n",
    "\n",
    "    def __lt__(self,other):\n",
    "        return self.value < other.value\n",
    "\n",
    "    def __le__(self,other):\n",
    "        return self.value <= other.value\n",
    "\n",
    "    def __ge__(self,other):\n",
    "        return self.value >= other.value\n",
    "\n",
    "    "
   ]
  },
  {
   "cell_type": "code",
   "execution_count": 52,
   "id": "43ab05f0-328b-4996-8b48-45304d055c5d",
   "metadata": {},
   "outputs": [],
   "source": [
    "item1=Item('Apple',10)\n",
    "item2=Item('Banana',20)"
   ]
  },
  {
   "cell_type": "code",
   "execution_count": 53,
   "id": "b378232a-a4fc-4c68-970a-ee031464848c",
   "metadata": {},
   "outputs": [
    {
     "name": "stdout",
     "output_type": "stream",
     "text": [
      "False\n",
      "True\n",
      "True\n",
      "True\n",
      "False\n",
      "False\n"
     ]
    }
   ],
   "source": [
    "print(item1 == item2)\n",
    "print(item1 != item2)\n",
    "print(item1 < item2)\n",
    "print(item1 <= item2)\n",
    "print(item1>item2)\n",
    "print(item1 >= item2)\n"
   ]
  },
  {
   "cell_type": "code",
   "execution_count": 4,
   "id": "4766315c-bb87-4854-85b9-ee8020d19381",
   "metadata": {},
   "outputs": [
    {
     "name": "stdin",
     "output_type": "stream",
     "text": [
      "enter distance in km 25.65\n"
     ]
    },
    {
     "name": "stdout",
     "output_type": "stream",
     "text": [
      "The distance is 25 km and 650  meters\n"
     ]
    }
   ],
   "source": [
    "x=float(input('enter distance in km'))\n",
    "c=x*1000\n",
    "b=int(c//1000)\n",
    "f=int(c%1000)\n",
    "c=x%10\n",
    "print(\"The distance is\",b,\"km and\",f,\" meters\")\n"
   ]
  },
  {
   "cell_type": "code",
   "execution_count": 8,
   "id": "e3fe824a-0d02-41cd-8348-54ee8d00ac9b",
   "metadata": {},
   "outputs": [
    {
     "name": "stdin",
     "output_type": "stream",
     "text": [
      "Enter distance in km 60.5\n"
     ]
    },
    {
     "name": "stdout",
     "output_type": "stream",
     "text": [
      "distance is  60.0 km and  500.0 m\n"
     ]
    }
   ],
   "source": [
    "d1=float(input(\"Enter distance in km\"))\n",
    "m=d1*1000\n",
    "km=m//1000\n",
    "m1=m%1000\n",
    "print(\"distance is \",km,\"km and \",m1, \"m\")"
   ]
  },
  {
   "cell_type": "code",
   "execution_count": 7,
   "id": "c62ae426-5fad-4075-a4d8-a123352a5ca6",
   "metadata": {},
   "outputs": [
    {
     "name": "stdin",
     "output_type": "stream",
     "text": [
      "Enter distance in km 60.5\n"
     ]
    },
    {
     "name": "stdout",
     "output_type": "stream",
     "text": [
      "distance is  60 km and  500 m\n"
     ]
    }
   ],
   "source": [
    "d1=float(input(\"Enter distance in km\"))\n",
    "a=d1*10\n",
    "c=int(a/10)\n",
    "b=int(a%10)\n",
    "print(\"distance is \", c, \"km and \",b*100, \"m\")\n"
   ]
  },
  {
   "cell_type": "code",
   "execution_count": 10,
   "id": "04d72ecb-a581-46b9-aeb4-fdcd104b51ae",
   "metadata": {},
   "outputs": [],
   "source": [
    "class distance:\n",
    "    def __init__(self, km=0):\n",
    "        self.km=km\n",
    "    def __add__(self,other):\n",
    "        return distance(self.km + other.km)\n",
    "    def calc(self):\n",
    "        a=self.km*10\n",
    "        c=int(a/10)\n",
    "        b=int(a%10)\n",
    "        print(\"Distance is\", c,\"km and \",b*100, \"m\")\n",
    "        "
   ]
  },
  {
   "cell_type": "code",
   "execution_count": 13,
   "id": "5fad12d4-2d42-476f-8635-52ddaff978e5",
   "metadata": {},
   "outputs": [],
   "source": [
    "d1=distance(50.0)"
   ]
  },
  {
   "cell_type": "code",
   "execution_count": null,
   "id": "65c9f00c-b3a0-443a-9a91-8a030cea5886",
   "metadata": {},
   "outputs": [],
   "source": [
    "class HoursToDaysConverter:\n",
    "    def __init__(self,hours):\n",
    "        self.hours = hours\n",
    "    def convert_to_days(self):\n",
    "        days = self.hours / 24\n",
    "        return days"
   ]
  },
  {
   "cell_type": "code",
   "execution_count": null,
   "id": "8b04ce38-0dc0-48c7-9480-d956bd074a0a",
   "metadata": {},
   "outputs": [],
   "source": []
  }
 ],
 "metadata": {
  "kernelspec": {
   "display_name": "Python 3 (ipykernel)",
   "language": "python",
   "name": "python3"
  },
  "language_info": {
   "codemirror_mode": {
    "name": "ipython",
    "version": 3
   },
   "file_extension": ".py",
   "mimetype": "text/x-python",
   "name": "python",
   "nbconvert_exporter": "python",
   "pygments_lexer": "ipython3",
   "version": "3.12.4"
  }
 },
 "nbformat": 4,
 "nbformat_minor": 5
}
